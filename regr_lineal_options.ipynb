{
 "cells": [
  {
   "cell_type": "markdown",
   "id": "1e191c11-9057-4ab5-beaa-360beeae0924",
   "metadata": {
    "tags": []
   },
   "source": [
    "## Regresión Lineal\n",
    "\n",
    "Alternativas para programación de Regresion Lineal y obtencion de parametros."
   ]
  },
  {
   "cell_type": "code",
   "execution_count": 114,
   "id": "79ed46e7-1725-4540-9fe3-35d7b363fc86",
   "metadata": {},
   "outputs": [],
   "source": [
    "import pandas as pd\n",
    "import numpy as np\n",
    "import matplotlib.pyplot as plt\n",
    "import scipy as sp\n",
    "import seaborn as sns\n",
    "import statsmodels.formula.api as smf\n",
    "import faraway.datasets.galapagos\n",
    "#\n",
    "import warnings\n",
    "warnings.filterwarnings('ignore')"
   ]
  },
  {
   "cell_type": "markdown",
   "id": "890fdb30-a9a5-464e-aa6f-7d6d76543319",
   "metadata": {},
   "source": [
    "**Info Dataset**\n",
    "\n",
    "30 obs (islas) y 6 variables.\n",
    "\n",
    "- Species: numero de especies encontrados en la isla (target)\n",
    "- Area: superficie de la isla en km2\n",
    "- Elevation: elevacion de la isla (metros)\n",
    "- Nearest: distancia (km) desde Santa Cruz\n",
    "- Adjacent: area adjacente a la isla"
   ]
  },
  {
   "cell_type": "code",
   "execution_count": 111,
   "id": "f30836cb-b28e-48f5-aca1-b1f2de998a41",
   "metadata": {},
   "outputs": [
    {
     "name": "stdout",
     "output_type": "stream",
     "text": [
      "(30, 6)\n"
     ]
    },
    {
     "data": {
      "text/html": [
       "<div>\n",
       "<style scoped>\n",
       "    .dataframe tbody tr th:only-of-type {\n",
       "        vertical-align: middle;\n",
       "    }\n",
       "\n",
       "    .dataframe tbody tr th {\n",
       "        vertical-align: top;\n",
       "    }\n",
       "\n",
       "    .dataframe thead th {\n",
       "        text-align: right;\n",
       "    }\n",
       "</style>\n",
       "<table border=\"1\" class=\"dataframe\">\n",
       "  <thead>\n",
       "    <tr style=\"text-align: right;\">\n",
       "      <th></th>\n",
       "      <th>Species</th>\n",
       "      <th>Area</th>\n",
       "      <th>Elevation</th>\n",
       "      <th>Nearest</th>\n",
       "      <th>Scruz</th>\n",
       "      <th>Adjacent</th>\n",
       "    </tr>\n",
       "  </thead>\n",
       "  <tbody>\n",
       "    <tr>\n",
       "      <th>Baltra</th>\n",
       "      <td>58</td>\n",
       "      <td>25.09</td>\n",
       "      <td>346</td>\n",
       "      <td>0.6</td>\n",
       "      <td>0.6</td>\n",
       "      <td>1.84</td>\n",
       "    </tr>\n",
       "    <tr>\n",
       "      <th>Bartolome</th>\n",
       "      <td>31</td>\n",
       "      <td>1.24</td>\n",
       "      <td>109</td>\n",
       "      <td>0.6</td>\n",
       "      <td>26.3</td>\n",
       "      <td>572.33</td>\n",
       "    </tr>\n",
       "    <tr>\n",
       "      <th>Caldwell</th>\n",
       "      <td>3</td>\n",
       "      <td>0.21</td>\n",
       "      <td>114</td>\n",
       "      <td>2.8</td>\n",
       "      <td>58.7</td>\n",
       "      <td>0.78</td>\n",
       "    </tr>\n",
       "    <tr>\n",
       "      <th>Champion</th>\n",
       "      <td>25</td>\n",
       "      <td>0.10</td>\n",
       "      <td>46</td>\n",
       "      <td>1.9</td>\n",
       "      <td>47.4</td>\n",
       "      <td>0.18</td>\n",
       "    </tr>\n",
       "    <tr>\n",
       "      <th>Coamano</th>\n",
       "      <td>2</td>\n",
       "      <td>0.05</td>\n",
       "      <td>77</td>\n",
       "      <td>1.9</td>\n",
       "      <td>1.9</td>\n",
       "      <td>903.82</td>\n",
       "    </tr>\n",
       "  </tbody>\n",
       "</table>\n",
       "</div>"
      ],
      "text/plain": [
       "           Species   Area  Elevation  Nearest  Scruz  Adjacent\n",
       "Baltra          58  25.09        346      0.6    0.6      1.84\n",
       "Bartolome       31   1.24        109      0.6   26.3    572.33\n",
       "Caldwell         3   0.21        114      2.8   58.7      0.78\n",
       "Champion        25   0.10         46      1.9   47.4      0.18\n",
       "Coamano          2   0.05         77      1.9    1.9    903.82"
      ]
     },
     "execution_count": 111,
     "metadata": {},
     "output_type": "execute_result"
    }
   ],
   "source": [
    "# Data\n",
    "df = faraway.datasets.galapagos.load()\n",
    "print(df.shape)\n",
    "df.head()"
   ]
  },
  {
   "cell_type": "markdown",
   "id": "3b4cffe5-df89-403a-9599-4e41e94be5a1",
   "metadata": {},
   "source": [
    "## **Modelo Lineal**\n",
    "\n",
    "La simplicidad de programacion de un modelo lineal, utilizando la forma de R."
   ]
  },
  {
   "cell_type": "code",
   "execution_count": 86,
   "id": "e984edd7-6069-420b-8ec4-9552c68f12fa",
   "metadata": {},
   "outputs": [
    {
     "data": {
      "text/html": [
       "<table class=\"simpletable\">\n",
       "<caption>OLS Regression Results</caption>\n",
       "<tr>\n",
       "  <th>Dep. Variable:</th>         <td>Species</td>     <th>  R-squared:         </th> <td>   0.766</td>\n",
       "</tr>\n",
       "<tr>\n",
       "  <th>Model:</th>                   <td>OLS</td>       <th>  Adj. R-squared:    </th> <td>   0.717</td>\n",
       "</tr>\n",
       "<tr>\n",
       "  <th>Method:</th>             <td>Least Squares</td>  <th>  F-statistic:       </th> <td>   15.70</td>\n",
       "</tr>\n",
       "<tr>\n",
       "  <th>Date:</th>             <td>Tue, 19 Jul 2022</td> <th>  Prob (F-statistic):</th> <td>6.84e-07</td>\n",
       "</tr>\n",
       "<tr>\n",
       "  <th>Time:</th>                 <td>14:28:45</td>     <th>  Log-Likelihood:    </th> <td> -162.54</td>\n",
       "</tr>\n",
       "<tr>\n",
       "  <th>No. Observations:</th>      <td>    30</td>      <th>  AIC:               </th> <td>   337.1</td>\n",
       "</tr>\n",
       "<tr>\n",
       "  <th>Df Residuals:</th>          <td>    24</td>      <th>  BIC:               </th> <td>   345.5</td>\n",
       "</tr>\n",
       "<tr>\n",
       "  <th>Df Model:</th>              <td>     5</td>      <th>                     </th>     <td> </td>   \n",
       "</tr>\n",
       "<tr>\n",
       "  <th>Covariance Type:</th>      <td>nonrobust</td>    <th>                     </th>     <td> </td>   \n",
       "</tr>\n",
       "</table>\n",
       "<table class=\"simpletable\">\n",
       "<tr>\n",
       "      <td></td>         <th>coef</th>     <th>std err</th>      <th>t</th>      <th>P>|t|</th>  <th>[0.025</th>    <th>0.975]</th>  \n",
       "</tr>\n",
       "<tr>\n",
       "  <th>Intercept</th> <td>    7.0682</td> <td>   19.154</td> <td>    0.369</td> <td> 0.715</td> <td>  -32.464</td> <td>   46.601</td>\n",
       "</tr>\n",
       "<tr>\n",
       "  <th>Area</th>      <td>   -0.0239</td> <td>    0.022</td> <td>   -1.068</td> <td> 0.296</td> <td>   -0.070</td> <td>    0.022</td>\n",
       "</tr>\n",
       "<tr>\n",
       "  <th>Elevation</th> <td>    0.3195</td> <td>    0.054</td> <td>    5.953</td> <td> 0.000</td> <td>    0.209</td> <td>    0.430</td>\n",
       "</tr>\n",
       "<tr>\n",
       "  <th>Nearest</th>   <td>    0.0091</td> <td>    1.054</td> <td>    0.009</td> <td> 0.993</td> <td>   -2.166</td> <td>    2.185</td>\n",
       "</tr>\n",
       "<tr>\n",
       "  <th>Scruz</th>     <td>   -0.2405</td> <td>    0.215</td> <td>   -1.117</td> <td> 0.275</td> <td>   -0.685</td> <td>    0.204</td>\n",
       "</tr>\n",
       "<tr>\n",
       "  <th>Adjacent</th>  <td>   -0.0748</td> <td>    0.018</td> <td>   -4.226</td> <td> 0.000</td> <td>   -0.111</td> <td>   -0.038</td>\n",
       "</tr>\n",
       "</table>\n",
       "<table class=\"simpletable\">\n",
       "<tr>\n",
       "  <th>Omnibus:</th>       <td>12.683</td> <th>  Durbin-Watson:     </th> <td>   2.476</td>\n",
       "</tr>\n",
       "<tr>\n",
       "  <th>Prob(Omnibus):</th> <td> 0.002</td> <th>  Jarque-Bera (JB):  </th> <td>  13.498</td>\n",
       "</tr>\n",
       "<tr>\n",
       "  <th>Skew:</th>          <td> 1.136</td> <th>  Prob(JB):          </th> <td> 0.00117</td>\n",
       "</tr>\n",
       "<tr>\n",
       "  <th>Kurtosis:</th>      <td> 5.374</td> <th>  Cond. No.          </th> <td>1.90e+03</td>\n",
       "</tr>\n",
       "</table><br/><br/>Notes:<br/>[1] Standard Errors assume that the covariance matrix of the errors is correctly specified.<br/>[2] The condition number is large, 1.9e+03. This might indicate that there are<br/>strong multicollinearity or other numerical problems."
      ],
      "text/plain": [
       "<class 'statsmodels.iolib.summary.Summary'>\n",
       "\"\"\"\n",
       "                            OLS Regression Results                            \n",
       "==============================================================================\n",
       "Dep. Variable:                Species   R-squared:                       0.766\n",
       "Model:                            OLS   Adj. R-squared:                  0.717\n",
       "Method:                 Least Squares   F-statistic:                     15.70\n",
       "Date:                Tue, 19 Jul 2022   Prob (F-statistic):           6.84e-07\n",
       "Time:                        14:28:45   Log-Likelihood:                -162.54\n",
       "No. Observations:                  30   AIC:                             337.1\n",
       "Df Residuals:                      24   BIC:                             345.5\n",
       "Df Model:                           5                                         \n",
       "Covariance Type:            nonrobust                                         \n",
       "==============================================================================\n",
       "                 coef    std err          t      P>|t|      [0.025      0.975]\n",
       "------------------------------------------------------------------------------\n",
       "Intercept      7.0682     19.154      0.369      0.715     -32.464      46.601\n",
       "Area          -0.0239      0.022     -1.068      0.296      -0.070       0.022\n",
       "Elevation      0.3195      0.054      5.953      0.000       0.209       0.430\n",
       "Nearest        0.0091      1.054      0.009      0.993      -2.166       2.185\n",
       "Scruz         -0.2405      0.215     -1.117      0.275      -0.685       0.204\n",
       "Adjacent      -0.0748      0.018     -4.226      0.000      -0.111      -0.038\n",
       "==============================================================================\n",
       "Omnibus:                       12.683   Durbin-Watson:                   2.476\n",
       "Prob(Omnibus):                  0.002   Jarque-Bera (JB):               13.498\n",
       "Skew:                           1.136   Prob(JB):                      0.00117\n",
       "Kurtosis:                       5.374   Cond. No.                     1.90e+03\n",
       "==============================================================================\n",
       "\n",
       "Notes:\n",
       "[1] Standard Errors assume that the covariance matrix of the errors is correctly specified.\n",
       "[2] The condition number is large, 1.9e+03. This might indicate that there are\n",
       "strong multicollinearity or other numerical problems.\n",
       "\"\"\""
      ]
     },
     "execution_count": 86,
     "metadata": {},
     "output_type": "execute_result"
    }
   ],
   "source": [
    "# Modelo lineal (estilo R)\n",
    "modelo = smf.ols(formula = 'Species ~ Area + Elevation + Nearest + Scruz + Adjacent', data=df).fit()\n",
    "modelo.summary()"
   ]
  },
  {
   "cell_type": "markdown",
   "id": "c45e9cda-8866-45bd-a4de-60b119ce9326",
   "metadata": {},
   "source": [
    "**Preguntas**\n",
    "- Todos los predictores son significativos para el modelo?\n",
    "- Existe coliniedad?\n",
    "\n",
    "Por el momento no son importantes estas preguntas."
   ]
  },
  {
   "cell_type": "markdown",
   "id": "0659491f-3d3a-444f-8a1b-65d3a3fd96ad",
   "metadata": {},
   "source": [
    "## Modelo Lineal programado de Forma Matricial"
   ]
  },
  {
   "cell_type": "code",
   "execution_count": 93,
   "id": "a0da8394-609c-462c-92cd-3e911e3c65bd",
   "metadata": {},
   "outputs": [
    {
     "data": {
      "text/plain": [
       "0    7.068221\n",
       "1   -0.023938\n",
       "2    0.319465\n",
       "3    0.009144\n",
       "4   -0.240524\n",
       "5   -0.074805\n",
       "dtype: float64"
      ]
     },
     "execution_count": 93,
     "metadata": {},
     "output_type": "execute_result"
    }
   ],
   "source": [
    "# insertamos la columnas de 1\n",
    "X = df.iloc[:,1:]\n",
    "X.insert(0,'intercepto',1)\n",
    "\n",
    "# constructor\n",
    "XtXi = np.linalg.inv(X.T @ X)\n",
    "\n",
    "# obtenemos los betas, aunque de una forma muy ineficiente (demasiado computo, debido a la operacion de trasponer matrix)\n",
    "(XtXi @ X.T) @ df.Species"
   ]
  },
  {
   "cell_type": "code",
   "execution_count": 95,
   "id": "9758c132-b615-4c1f-9765-274dd67686a5",
   "metadata": {},
   "outputs": [
    {
     "data": {
      "text/plain": [
       "array([ 7.06822071, -0.02393834,  0.31946476,  0.00914396, -0.24052423,\n",
       "       -0.07480483])"
      ]
     },
     "execution_count": 95,
     "metadata": {},
     "output_type": "execute_result"
    }
   ],
   "source": [
    "# una forma mas eficiente\n",
    "np.linalg.solve(X.T @ X, X.T @ df.Species)\n",
    "\n",
    "# donde np.linalg.solve(A,B)  === > Ax = b"
   ]
  },
  {
   "cell_type": "code",
   "execution_count": 96,
   "id": "a533317d-16fd-444b-97e7-274032815d67",
   "metadata": {},
   "outputs": [
    {
     "data": {
      "text/plain": [
       "60.97518837269359"
      ]
     },
     "execution_count": 96,
     "metadata": {},
     "output_type": "execute_result"
    }
   ],
   "source": [
    "# RMSE (error cuadratico medio)\n",
    "np.sqrt(modelo.mse_resid)"
   ]
  },
  {
   "cell_type": "markdown",
   "id": "a2d16392-7525-4863-b665-187fa6ab43b9",
   "metadata": {},
   "source": [
    "## Formas de estimar los betas\n",
    "\n",
    "**Estimacion de los betas por minimos cuadrados**\n",
    "\n",
    "\n",
    "**Diferenciando respecto a $\\beta$**\n",
    "- $X^T X\\beta = X^Ty$\n",
    "\n",
    "**Ecuaciones normales**\n",
    "- $\\beta = (X^T X)^-1 X^Ty$\n",
    "- $X\\beta = X(X^TX)^-1 Xy$\n",
    "- $y = Hy$\n",
    "\n",
    "Donde $H = X(X^TX)^-1 X^T$"
   ]
  },
  {
   "cell_type": "code",
   "execution_count": 112,
   "id": "8eeecfe0-dddc-40f0-a157-886ede0cf411",
   "metadata": {},
   "outputs": [
    {
     "data": {
      "text/plain": [
       "(6, 30)"
      ]
     },
     "execution_count": 112,
     "metadata": {},
     "output_type": "execute_result"
    }
   ],
   "source": [
    "# dimension\n",
    "Xmp = np.linalg.pinv(X)\n",
    "Xmp.shape"
   ]
  },
  {
   "cell_type": "code",
   "execution_count": 113,
   "id": "83b8d81a-327e-46af-aeb4-df87e3e2a3f0",
   "metadata": {},
   "outputs": [
    {
     "data": {
      "text/plain": [
       "array([ 7.06822071, -0.02393834,  0.31946476,  0.00914396, -0.24052423,\n",
       "       -0.07480483])"
      ]
     },
     "execution_count": 113,
     "metadata": {},
     "output_type": "execute_result"
    }
   ],
   "source": [
    "# obtencion de los betas\n",
    "Xmp @ df.Species"
   ]
  },
  {
   "cell_type": "markdown",
   "id": "76b9132b-a6cb-4aa5-83b4-80150e54a388",
   "metadata": {},
   "source": [
    "**Estimacion de los betas por el metodo inverso de Moore-Penrose**\n",
    "\n",
    "**QR** es una alternativa del Metodo Inverso de Moore-Penrose para la obtencion de los betas."
   ]
  },
  {
   "cell_type": "code",
   "execution_count": 100,
   "id": "f753d865-7b5b-4b0d-98db-34f32550b71e",
   "metadata": {},
   "outputs": [
    {
     "data": {
      "text/plain": [
       "array([-466.84219318,  381.40557435,  256.25047255,    5.40764552,\n",
       "       -119.49834019,  257.69436853])"
      ]
     },
     "execution_count": 100,
     "metadata": {},
     "output_type": "execute_result"
    }
   ],
   "source": [
    "q,r = np.linalg.qr(X)\n",
    "\n",
    "#calculamos\n",
    "f = q.T @ df.Species\n",
    "f"
   ]
  },
  {
   "cell_type": "code",
   "execution_count": 102,
   "id": "23ac995b-db49-4a95-a313-0521d7dbf2a3",
   "metadata": {},
   "outputs": [
    {
     "data": {
      "text/plain": [
       "array([ 7.06822071, -0.02393834,  0.31946476,  0.00914396, -0.24052423,\n",
       "       -0.07480483])"
      ]
     },
     "execution_count": 102,
     "metadata": {},
     "output_type": "execute_result"
    }
   ],
   "source": [
    "# resolviendo f (metodo de sustition hacia atras), obtenemos los betas\n",
    "sp.linalg.solve_triangular(r,f)"
   ]
  },
  {
   "cell_type": "markdown",
   "id": "adbcbb71-a9c6-4389-a952-ee5e99809927",
   "metadata": {},
   "source": [
    "**Utilizando Statsmodels con QR**"
   ]
  },
  {
   "cell_type": "code",
   "execution_count": 104,
   "id": "97c30517-66c1-4c64-ad54-730070053ec9",
   "metadata": {},
   "outputs": [
    {
     "data": {
      "text/plain": [
       "Intercept    7.068221\n",
       "Area        -0.023938\n",
       "Elevation    0.319465\n",
       "Nearest      0.009144\n",
       "Scruz       -0.240524\n",
       "Adjacent    -0.074805\n",
       "dtype: float64"
      ]
     },
     "execution_count": 104,
     "metadata": {},
     "output_type": "execute_result"
    }
   ],
   "source": [
    "# Utilizacion de esta forma en statsmodels\n",
    "\n",
    "modelo_form = smf.ols(formula = 'Species ~ Area + Elevation + Nearest + Scruz + Adjacent', data=df)\n",
    "modelo1 = modelo_form.fit(method=\"qr\")\n",
    "modelo1.params"
   ]
  },
  {
   "cell_type": "markdown",
   "id": "577d174c-a97c-4b2c-8ff0-a5c7de686078",
   "metadata": {},
   "source": [
    "**Utilizando Scipy**"
   ]
  },
  {
   "cell_type": "code",
   "execution_count": 108,
   "id": "b36bc586-d235-4547-872a-66c630c19716",
   "metadata": {},
   "outputs": [
    {
     "data": {
      "text/plain": [
       "array([ 7.06822071, -0.02393834,  0.31946476,  0.00914396, -0.24052423,\n",
       "       -0.07480483])"
      ]
     },
     "execution_count": 108,
     "metadata": {},
     "output_type": "execute_result"
    }
   ],
   "source": [
    "# metodo alternativo utilizando scipy\n",
    "\n",
    "params,res,rnk,s= sp.linalg.lstsq(X,df['Species'])\n",
    "params"
   ]
  }
 ],
 "metadata": {
  "kernelspec": {
   "display_name": "Python 3 (ipykernel)",
   "language": "python",
   "name": "python3"
  },
  "language_info": {
   "codemirror_mode": {
    "name": "ipython",
    "version": 3
   },
   "file_extension": ".py",
   "mimetype": "text/x-python",
   "name": "python",
   "nbconvert_exporter": "python",
   "pygments_lexer": "ipython3",
   "version": "3.9.7"
  }
 },
 "nbformat": 4,
 "nbformat_minor": 5
}
